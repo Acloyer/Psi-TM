{
  "cells": [
    {
      "cell_type": "code",
      "execution_count": null,
      "metadata": {},
      "outputs": [],
      "source": [
        "import os, numpy as np, matplotlib as mpl, matplotlib.pyplot as plt\n",
        "OUT_DIR = \"../fig\"  # save into repo fig/ directory\n",
        "os.makedirs(OUT_DIR, exist_ok=True)\n",
        "mpl.rcParams[\"mathtext.fontset\"] = \"stix\"\n",
        "mpl.rcParams[\"font.size\"] = 12\n",
        "mpl.rcParams[\"axes.labelsize\"] = 12\n",
        "mpl.rcParams[\"axes.titlesize\"] = 14\n",
        "mpl.rcParams[\"legend.fontsize\"] = 10\n",
        "\n",
        "def save_fig(fig, filename, dpi=300):\n",
        "    path = os.path.join(OUT_DIR, filename)\n",
        "    fig.savefig(path, dpi=dpi, bbox_inches=\"tight\")\n",
        "    fig.canvas.draw()\n",
        "    plt.pause(0.001)\n",
        "    assert os.path.exists(path) and os.path.getsize(path) > 0, f\"Empty file saved: {path}\"\n",
        "    print(\"saved:\", path)\n"
      ]
    },
    {
      "cell_type": "code",
      "execution_count": null,
      "metadata": {},
      "outputs": [
        {
          "name": "stdout",
          "output_type": "stream",
          "text": [
            "saved: ../fig\\../fig/anti_simulation_budget.png\n"
          ]
        }
      ],
      "source": [
        "import os\n",
        "\n",
        "n = 10**6\n",
        "ks = [2, 3, 4, 5]\n",
        "betas = np.linspace(0.00, 1.0, 200)\n",
        "\n",
        "fig, ax = plt.subplots(figsize=(7.2, 4.2))\n",
        "for k in ks:\n",
        "    ratio = (n ** betas) * ((k - 1) / k)\n",
        "    ax.plot(betas, ratio, label=f\"k={k}\")\n",
        "\n",
        "ax.axhline(1.0, color=\"k\", linestyle=\"--\", linewidth=1, label=\"violation threshold\")\n",
        "\n",
        "def beta_thr(k, n): return np.log(k/(k-1)) / np.log(n)\n",
        "# for k in ks:\n",
        "#     b = beta_thr(k, n)\n",
        "#     ax.axvline(b, linestyle=\":\", linewidth=1)\n",
        "#     ax.text(\n",
        "#         b, 1.2,\n",
        "#         fr\"$\\beta_{{k={k}}}\\approx{b:.3f}$\",\n",
        "#         rotation=90, va=\"bottom\", ha=\"right\"\n",
        "#     )\n",
        "\n",
        "ax.set_yscale(\"log\")\n",
        "ax.set_xlabel(r\"$\\beta$\")\n",
        "ax.set_ylabel(r\"$\\frac{s\\,B(k-1,n)}{B(k,n)}$\")\n",
        "ax.set_title(r\"Budget violation ratio vs $\\beta$\")\n",
        "ax.legend(loc=\"best\")\n",
        "fig.tight_layout()\n",
        "save_fig(fig, \"../fig/anti_simulation_budget.png\")\n",
        "plt.close(fig)\n"
      ]
    },
    {
      "cell_type": "code",
      "execution_count": null,
      "metadata": {},
      "outputs": [
        {
          "name": "stdout",
          "output_type": "stream",
          "text": [
            "saved: ../fig\\../fig/anti_simulation_failure_modes.png\n"
          ]
        }
      ],
      "source": [
        "modes = [\"Super-log budget\", \"Randomized sim\", \"Advice\", \"Multi-pass\"]\n",
        "status = [1, 1, 1, 1]  # 1=blocked\n",
        "fig, ax = plt.subplots(figsize=(7.2, 3.2))\n",
        "bars = ax.bar(modes, status)\n",
        "for i, s in enumerate(status):\n",
        "    ax.text(i, s + 0.02, \"Blocked\" if s else \"Allowed\", ha=\"center\", va=\"bottom\")\n",
        "ax.set_ylim(0, 1.15)\n",
        "ax.set_ylabel(\"Bypass status\")\n",
        "ax.set_title(\"Failure mode analysis: all bypass routes blocked\")\n",
        "plt.setp(ax.get_xticklabels(), rotation=15, ha=\"right\")\n",
        "fig.tight_layout()\n",
        "save_fig(fig, \"../fig/anti_simulation_failure_modes.png\")\n",
        "plt.close(fig)\n"
      ]
    },
    {
      "cell_type": "code",
      "execution_count": null,
      "metadata": {},
      "outputs": [
        {
          "name": "stdout",
          "output_type": "stream",
          "text": [
            "saved: ../fig\\../fig/anti_simulation_budget_saved.png\n"
          ]
        }
      ],
      "source": [
        "betas2 = np.linspace(0.00, 1.0, 200)\n",
        "fig, ax = plt.subplots(figsize=(7.2, 4.2))\n",
        "for k in ks:\n",
        "    ratio = (n ** betas2) * ((k - 1) / k)\n",
        "    ax.plot(betas2, ratio, label=f\"k={k}\")\n",
        "ax.axhline(1.0, color=\"k\", linestyle=\"--\", linewidth=1)\n",
        "for k in ks:\n",
        "    b = np.log(k/(k-1)) / np.log(n)\n",
        "    ax.axvline(b, linestyle=\":\", linewidth=1)\n",
        "ax.set_yscale(\"log\")\n",
        "ax.set_xlabel(r\"$\\beta$\")\n",
        "ax.set_ylabel(r\"$\\frac{s\\,B(k-1,n)}{B(k,n)}$\")\n",
        "ax.set_title(r\"Budget violation ratio vs $\\beta$ (saved)\")\n",
        "ax.legend(loc=\"best\")\n",
        "fig.tight_layout()\n",
        "save_fig(fig, \"../fig/anti_simulation_budget_saved.png\")\n",
        "plt.close(fig)\n"
      ]
    }
  ],
  "metadata": {
    "kernelspec": {
      "display_name": "Python 3",
      "language": "python",
      "name": "python3"
    },
    "language_info": {
      "codemirror_mode": {
        "name": "ipython",
        "version": 3
      },
      "file_extension": ".py",
      "mimetype": "text/x-python",
      "name": "python",
      "nbconvert_exporter": "python",
      "pygments_lexer": "ipython3",
      "version": "3.13.5"
    }
  },
  "nbformat": 4,
  "nbformat_minor": 2
}
