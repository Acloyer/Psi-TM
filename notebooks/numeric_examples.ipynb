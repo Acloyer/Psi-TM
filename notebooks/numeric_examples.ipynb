{
  "cells": [
    {
      "cell_type": "code",
      "execution_count": null,
      "metadata": {},
      "outputs": [],
      "source": [
        "# Numeric Examples: Budget and Psi-Fooling (seed=1337)\n",
        "\n",
        "Deterministic sanity checks for budget scaling and Psi-fooling parameters.\n"
      ]
    },
    {
      "cell_type": "code",
      "execution_count": null,
      "metadata": {},
      "outputs": [],
      "source": [
        "import numpy as np\n",
        "import pandas as pd\n",
        "import matplotlib.pyplot as plt\n",
        "import os\n",
        "\n",
        "np.random.seed(1337)\n",
        "os.makedirs('fig', exist_ok=True)\n",
        "os.makedirs('results', exist_ok=True)\n",
        "\n",
        "# Deterministic date slug for reproducibility\n",
        "DATE_SLUG = '2025-08-07'\n",
        "out_dir = os.path.join('results', DATE_SLUG, 'numeric')\n",
        "os.makedirs(out_dir, exist_ok=True)\n",
        "\n",
        "# Budget function B(d,n) = c * d * log2 n\n",
        "c = 1.0\n",
        "\n",
        "def B(c, d, n):\n",
        "    return c * d * np.log2(n)\n",
        "\n",
        "n_vals = np.array([2**k for k in range(8, 18)])\n",
        "d_vals = np.array([1,2,3,4])\n",
        "records = []\n",
        "for d in d_vals:\n",
        "    for n in n_vals:\n",
        "        records.append({'d': int(d), 'n': int(n), 'B': float(B(c, d, n))})\n",
        "\n",
        "df = pd.DataFrame(records)\n",
        "df.to_csv(os.path.join(out_dir, 'budget.csv'), index=False)\n",
        "\n",
        "# Plot B vs log2(n) for different d\n",
        "plt.figure(figsize=(6,4))\n",
        "for d in d_vals:\n",
        "    sub = df[df['d']==d]\n",
        "    plt.plot(np.log2(sub['n']), sub['B'], label=f'd={d}')\n",
        "plt.xlabel('log2 n')\n",
        "plt.ylabel('B(d,n)')\n",
        "plt.legend()\n",
        "plt.tight_layout()\n",
        "plt.savefig('fig/anti_simulation_budget.png', dpi=150)\n",
        "plt.close()\n",
        "\n",
        "# Ψ–Fooling parameters: log2 M vs m (linear)\n",
        "alpha = 0.9\n",
        "m_vals = np.arange(32, 256+1, 8)\n",
        "logM = alpha * m_vals\n",
        "df2 = pd.DataFrame({'m': m_vals, 'log2M': logM})\n",
        "df2.to_csv(os.path.join(out_dir, 'fooling.csv'), index=False)\n",
        "\n",
        "plt.figure(figsize=(6,4))\n",
        "plt.plot(m_vals, logM, 'o-', label='log2 M = alpha * m')\n",
        "plt.xlabel('m')\n",
        "plt.ylabel('log2 M')\n",
        "plt.legend()\n",
        "plt.tight_layout()\n",
        "plt.savefig('fig/lk_logM.png', dpi=150)\n",
        "plt.close()\n"
      ]
    }
  ],
  "metadata": {
    "language_info": {
      "name": "python"
    }
  },
  "nbformat": 4,
  "nbformat_minor": 2
}
