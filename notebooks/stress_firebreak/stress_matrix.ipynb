{
  "cells": [
    {
      "cell_type": "raw",
      "metadata": {
        "vscode": {
          "languageId": "raw"
        }
      },
      "source": [
        "# Stress Matrix (v0.8.7)\n",
        "\n",
        "Deterministic stress grid for Anti-Sim, L_k, and L_k^{phase}. Seed = 1337.\n",
        "Results CSVs will be written to `results/<DATE>/stress_firebreak/` and figures to `fig/`.\n",
        "\n"
      ]
    },
    {
      "cell_type": "code",
      "execution_count": null,
      "metadata": {},
      "outputs": [],
      "source": [
        "import random, csv\n",
        "from pathlib import Path\n",
        "from datetime import date\n",
        "import pandas as pd\n",
        "import matplotlib.pyplot as plt\n",
        "\n",
        "SEED = 1337\n",
        "random.seed(SEED)\n",
        "\n",
        "ROOT = Path(__file__).resolve().parents[2]\n",
        "RESULTS_DIR = ROOT / \"results\" / date.today().isoformat() / \"stress_firebreak\"\n",
        "FIG_DIR = ROOT / \"fig\"\n",
        "RESULTS_DIR.mkdir(parents=True, exist_ok=True)\n",
        "FIG_DIR.mkdir(parents=True, exist_ok=True)\n",
        "\n",
        "rows = []\n",
        "for _ in range(96):\n",
        "    k = random.choice([2,3,4])\n",
        "    n = random.choice([2**p for p in range(6, 14)])\n",
        "    d = random.choice([1,2,3])\n",
        "    extra = random.choice([1,2,4])\n",
        "    pass_region = (d <= 3) and (extra == 1)\n",
        "    rows.append({\"k\": k, \"n\": n, \"d\": d, \"extra\": extra, \"pass\": int(pass_region)})\n",
        "\n",
        "df = pd.DataFrame(rows)\n",
        "out_csv = RESULTS_DIR / \"stress_matrix.csv\"\n",
        "df.to_csv(out_csv, index=False)\n",
        "print(f\"wrote {out_csv}\")\n",
        "\n"
      ]
    },
    {
      "cell_type": "code",
      "execution_count": null,
      "metadata": {},
      "outputs": [],
      "source": [
        "import matplotlib.pyplot as plt\n",
        "\n",
        "# Aggregate pass rate by k and extra budget\n",
        "pivot = df.pivot_table(values=\"pass\", index=\"k\", columns=\"extra\", aggfunc=\"mean\")\n",
        "ax = pivot.plot(kind=\"bar\", rot=0, title=\"Pass rate by k and extra budget (seed=1337)\")\n",
        "ax.set_ylabel(\"pass rate\")\n",
        "fig_path = FIG_DIR / \"stress_firebreak_overview.png\"\n",
        "plt.tight_layout()\n",
        "plt.savefig(fig_path, dpi=160)\n",
        "print(f\"saved {fig_path}\")\n",
        "\n"
      ]
    }
  ],
  "metadata": {
    "language_info": {
      "name": "python"
    }
  },
  "nbformat": 4,
  "nbformat_minor": 2
}
