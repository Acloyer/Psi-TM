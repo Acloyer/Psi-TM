{
  "cells": [
    {
      "cell_type": "raw",
      "metadata": {
        "vscode": {
          "languageId": "raw"
        }
      },
      "source": [
        "# Phase-Weird Stress (v0.8.7)\n",
        "\n",
        "Deterministic exploration of phase transcript collisions vs UB alt forms.\n",
        "Seed = 1337. Outputs figures under `fig/` and CSV under `results/<DATE>/stress_firebreak/`.\n",
        "\n"
      ]
    },
    {
      "cell_type": "code",
      "execution_count": 16,
      "metadata": {},
      "outputs": [
        {
          "name": "stdout",
          "output_type": "stream",
          "text": [
            "Defaulting to user installation because normal site-packages is not writeable\n",
            "Requirement already satisfied: pandas in c:\\users\\asus\\appdata\\roaming\\python\\python313\\site-packages (2.3.2)\n",
            "Requirement already satisfied: numpy>=1.26.0 in c:\\python313\\lib\\site-packages (from pandas) (2.2.6)\n",
            "Requirement already satisfied: python-dateutil>=2.8.2 in c:\\users\\asus\\appdata\\roaming\\python\\python313\\site-packages (from pandas) (2.9.0.post0)\n",
            "Requirement already satisfied: pytz>=2020.1 in c:\\users\\asus\\appdata\\roaming\\python\\python313\\site-packages (from pandas) (2025.2)\n",
            "Requirement already satisfied: tzdata>=2022.7 in c:\\users\\asus\\appdata\\roaming\\python\\python313\\site-packages (from pandas) (2025.2)\n",
            "Requirement already satisfied: six>=1.5 in c:\\users\\asus\\appdata\\roaming\\python\\python313\\site-packages (from python-dateutil>=2.8.2->pandas) (1.17.0)\n",
            "Note: you may need to restart the kernel to use updated packages.\n",
            "wrote C:\\Users\\ASUS\\OneDrive\\Documents\\GitHub\\Psi-TM\\results\\2025-08-28\\stress_firebreak\\phase_weird.csv\n",
            "saved C:\\Users\\ASUS\\OneDrive\\Documents\\GitHub\\Psi-TM\\fig\\phase_weird_bar.png\n"
          ]
        },
        {
          "data": {
            "image/png": "[encoded data removed]",
            "text/plain": [
              "<Figure size 640x480 with 1 Axes>"
            ]
          },
          "metadata": {},
          "output_type": "display_data"
        }
      ],
      "source": [
        "%pip install pandas\n",
        "import random\n",
        "from pathlib import Path\n",
        "from datetime import date\n",
        "import pandas as pd\n",
        "import matplotlib.pyplot as plt\n",
        "\n",
        "SEED = 1337\n",
        "random.seed(SEED)\n",
        "\n",
        "def find_repo_root(start: Path) -> Path:\n",
        "    for p in [start, *start.parents]:\n",
        "        if (p / 'lakefile.lean').exists() and (p / 'Makefile').exists():\n",
        "            return p\n",
        "    return start\n",
        "\n",
        "try:\n",
        "    start_path = Path(__file__).resolve().parent\n",
        "except NameError:\n",
        "    start_path = Path.cwd().resolve()\n",
        "\n",
        "ROOT = find_repo_root(start_path)\n",
        "RESULTS_DIR = ROOT / \"results\" / date.today().isoformat() / \"stress_firebreak\"\n",
        "FIG_DIR = ROOT / \"fig\"\n",
        "RESULTS_DIR.mkdir(parents=True, exist_ok=True)\n",
        "FIG_DIR.mkdir(parents=True, exist_ok=True)\n",
        "\n",
        "def synth_phase_rows(num=64):\n",
        "    rows = []\n",
        "    for _ in range(num):\n",
        "        k = random.choice([2,3,4])\n",
        "        n = random.choice([2**p for p in range(6, 14)])\n",
        "        collision_prob = min(1.0, (k-1)/k * 0.25 + (1.0/(n**0.25)))\n",
        "        rows.append({\"k\": k, \"n\": n, \"collision_prob\": collision_prob})\n",
        "    return rows\n",
        "\n",
        "rows = synth_phase_rows()\n",
        "df = pd.DataFrame(rows)\n",
        "out_csv = RESULTS_DIR / \"phase_weird.csv\"\n",
        "df.to_csv(out_csv, index=False)\n",
        "print(f\"wrote {out_csv}\")\n",
        "\n",
        "ax = df.pivot_table(values=\"collision_prob\", index=\"k\", aggfunc=\"mean\").plot(kind=\"bar\", rot=0, title=\"Mean collision probability by k\")\n",
        "ax.set_ylabel(\"probability\")\n",
        "fig_path = FIG_DIR / \"phase_weird_bar.png\"\n",
        "plt.tight_layout()\n",
        "plt.savefig(fig_path, dpi=160)\n",
        "print(f\"saved {fig_path}\")\n",
        "\n"
      ]
    },
    {
      "cell_type": "code",
      "execution_count": 17,
      "metadata": {},
      "outputs": [
        {
          "name": "stdout",
          "output_type": "stream",
          "text": [
            "wrote C:\\Users\\ASUS\\OneDrive\\Documents\\GitHub\\Psi-TM\\results\\2025-08-28\\stress_firebreak\\phase_weird_raw.csv\n",
            "wrote C:\\Users\\ASUS\\OneDrive\\Documents\\GitHub\\Psi-TM\\results\\2025-08-28\\stress_firebreak\\phase_weird_agg.csv\n"
          ]
        }
      ],
      "source": [
        "# Full-factorial experiment mirroring stress_matrix; phase-oriented summary\n",
        "import os, subprocess, hashlib\n",
        "from math import log2, sqrt, exp\n",
        "import yaml\n",
        "import pandas as pd\n",
        "import numpy as np\n",
        "\n",
        "GRID_K = [2, 3, 4]\n",
        "GRID_D = [1, 2, 3]\n",
        "GRID_EXTRA = [1, 2, 4]\n",
        "GRID_N = [2**p for p in range(6, 14)]\n",
        "T = 200\n",
        "SEED = 1337\n",
        "c = 1.0\n",
        "a = 1.0\n",
        "gamma = 0.5\n",
        "alpha = 1.5\n",
        "\n",
        "def stable_rng(seed_base: int, *keys: int):\n",
        "    s = \":\".join(map(str, keys)).encode(\"utf-8\")\n",
        "    h = int(hashlib.sha256(s).hexdigest(), 16) % (2**31 - 1)\n",
        "    return np.random.default_rng(seed_base + h)\n",
        "\n",
        "ROOT = ROOT\n",
        "RESULTS_DIR = RESULTS_DIR\n",
        "FIG_DIR = FIG_DIR\n",
        "\n",
        "try:\n",
        "    git_commit = subprocess.check_output([\"git\", \"rev-parse\", \"--short\", \"HEAD\"], stderr=subprocess.DEVNULL).decode().strip()\n",
        "except Exception:\n",
        "    git_commit = \"unknown\"\n",
        "config = {\n",
        "    \"k\": GRID_K,\n",
        "    \"d\": GRID_D,\n",
        "    \"extra\": GRID_EXTRA,\n",
        "    \"n\": GRID_N,\n",
        "    \"T\": T,\n",
        "    \"seed\": SEED,\n",
        "    \"params\": {\"c\": c, \"a\": a, \"gamma\": gamma, \"alpha\": alpha},\n",
        "    \"git\": {\"commit\": git_commit},\n",
        "}\n",
        "with open(RESULTS_DIR / \"phase_weird_config.yaml\", \"w\", encoding=\"utf-8\") as f:\n",
        "    yaml.safe_dump(config, f, sort_keys=False, allow_unicode=True)\n",
        "\n",
        "rows = []\n",
        "for k in GRID_K:\n",
        "    for d in GRID_D:\n",
        "        for extra in GRID_EXTRA:\n",
        "            for n in GRID_N:\n",
        "                rng = stable_rng(SEED, k, d, extra, n)\n",
        "                B = c * d * log2(n)\n",
        "                R = a * k * log2(n)\n",
        "                R_eff = R * (1.0 + gamma * (extra - 1))\n",
        "                prob = 1.0 / (1.0 + exp(-alpha * (B - R_eff)))\n",
        "                for t in range(T):\n",
        "                    prb = 1 if rng.random() < prob else 0\n",
        "                    # proxy for \"collision\": higher when B<R_eff\n",
        "                    coll = float(max(0.0, (R_eff - B) / max(1.0, R_eff)))\n",
        "                    rows.append({\n",
        "                        \"k\": k, \"d\": d, \"extra\": extra, \"n\": n, \"trial\": t,\n",
        "                        \"pass_prob\": prb, \"collision\": coll,\n",
        "                    })\n",
        "\n",
        "df_raw = pd.DataFrame(rows)\n",
        "raw_csv = RESULTS_DIR / \"phase_weird_raw.csv\"\n",
        "df_raw.to_csv(raw_csv, index=False)\n",
        "print(f\"wrote {raw_csv}\")\n",
        "\n",
        "from math import erf\n",
        "\n",
        "def wilson_ci(k_succ: int, n_tot: int, z: float = 1.96):\n",
        "    if n_tot == 0:\n",
        "        return (0.0, 0.0, 0.0)\n",
        "    p_hat = k_succ / n_tot\n",
        "    denom = 1 + z*z/n_tot\n",
        "    center = (p_hat + z*z/(2*n_tot)) / denom\n",
        "    half = (z * sqrt((p_hat*(1-p_hat) + z*z/(4*n_tot)) / n_tot)) / denom\n",
        "    return (p_hat, max(0.0, center - half), min(1.0, center + half))\n",
        "\n",
        "agg_rows = []\n",
        "for (k_, d_, extra_, n_), g in df_raw.groupby([\"k\", \"d\", \"extra\", \"n\"], sort=False):\n",
        "    N = len(g)\n",
        "    s_prob = int(g[\"pass_prob\"].sum())\n",
        "    p_prob, ci_lo, ci_hi = wilson_ci(s_prob, N)\n",
        "    mean_coll = float(g[\"collision\"].mean())\n",
        "    agg_rows.append({\n",
        "        \"k\": k_, \"d\": d_, \"extra\": extra_, \"n\": n_, \"N\": N,\n",
        "        \"pass_rate_prob\": p_prob, \"ci_low_prob\": ci_lo, \"ci_high_prob\": ci_hi,\n",
        "        \"collision_mean\": mean_coll,\n",
        "    })\n",
        "\n",
        "agg = pd.DataFrame(agg_rows)\n",
        "agg_csv = RESULTS_DIR / \"phase_weird_agg.csv\"\n",
        "agg.to_csv(agg_csv, index=False)\n",
        "print(f\"wrote {agg_csv}\")\n",
        "\n"
      ]
    },
    {
      "cell_type": "code",
      "execution_count": 18,
      "metadata": {},
      "outputs": [
        {
          "name": "stdout",
          "output_type": "stream",
          "text": [
            "Defaulting to user installation because normal site-packages is not writeable\n",
            "Requirement already satisfied: seaborn in c:\\users\\asus\\appdata\\roaming\\python\\python313\\site-packages (0.13.2)\n",
            "Requirement already satisfied: numpy!=1.24.0,>=1.20 in c:\\python313\\lib\\site-packages (from seaborn) (2.2.6)\n",
            "Requirement already satisfied: pandas>=1.2 in c:\\users\\asus\\appdata\\roaming\\python\\python313\\site-packages (from seaborn) (2.3.2)\n",
            "Requirement already satisfied: matplotlib!=3.6.1,>=3.4 in c:\\users\\asus\\appdata\\roaming\\python\\python313\\site-packages (from seaborn) (3.10.5)\n",
            "Requirement already satisfied: contourpy>=1.0.1 in c:\\users\\asus\\appdata\\roaming\\python\\python313\\site-packages (from matplotlib!=3.6.1,>=3.4->seaborn) (1.3.3)\n",
            "Requirement already satisfied: cycler>=0.10 in c:\\users\\asus\\appdata\\roaming\\python\\python313\\site-packages (from matplotlib!=3.6.1,>=3.4->seaborn) (0.12.1)\n",
            "Requirement already satisfied: fonttools>=4.22.0 in c:\\users\\asus\\appdata\\roaming\\python\\python313\\site-packages (from matplotlib!=3.6.1,>=3.4->seaborn) (4.59.0)\n",
            "Requirement already satisfied: kiwisolver>=1.3.1 in c:\\users\\asus\\appdata\\roaming\\python\\python313\\site-packages (from matplotlib!=3.6.1,>=3.4->seaborn) (1.4.9)\n",
            "Requirement already satisfied: packaging>=20.0 in c:\\users\\asus\\appdata\\roaming\\python\\python313\\site-packages (from matplotlib!=3.6.1,>=3.4->seaborn) (25.0)\n",
            "Requirement already satisfied: pillow>=8 in c:\\users\\asus\\appdata\\roaming\\python\\python313\\site-packages (from matplotlib!=3.6.1,>=3.4->seaborn) (11.3.0)\n",
            "Requirement already satisfied: pyparsing>=2.3.1 in c:\\users\\asus\\appdata\\roaming\\python\\python313\\site-packages (from matplotlib!=3.6.1,>=3.4->seaborn) (3.2.3)\n",
            "Requirement already satisfied: python-dateutil>=2.7 in c:\\users\\asus\\appdata\\roaming\\python\\python313\\site-packages (from matplotlib!=3.6.1,>=3.4->seaborn) (2.9.0.post0)\n",
            "Requirement already satisfied: pytz>=2020.1 in c:\\users\\asus\\appdata\\roaming\\python\\python313\\site-packages (from pandas>=1.2->seaborn) (2025.2)\n",
            "Requirement already satisfied: tzdata>=2022.7 in c:\\users\\asus\\appdata\\roaming\\python\\python313\\site-packages (from pandas>=1.2->seaborn) (2025.2)\n",
            "Requirement already satisfied: six>=1.5 in c:\\users\\asus\\appdata\\roaming\\python\\python313\\site-packages (from python-dateutil>=2.7->matplotlib!=3.6.1,>=3.4->seaborn) (1.17.0)\n",
            "Note: you may need to restart the kernel to use updated packages.\n"
          ]
        }
      ],
      "source": [
        "%pip install seaborn\n",
        "import seaborn as sns\n"
      ]
    },
    {
      "cell_type": "code",
      "execution_count": 19,
      "metadata": {},
      "outputs": [
        {
          "name": "stdout",
          "output_type": "stream",
          "text": [
            "wrote C:\\Users\\ASUS\\OneDrive\\Documents\\GitHub\\Psi-TM\\results\\2025-08-28\\stress_firebreak\\phase_weird_report.json\n",
            "wrote C:\\Users\\ASUS\\OneDrive\\Documents\\GitHub\\Psi-TM\\results\\2025-08-28\\stress_firebreak\\phase_weird_report.md\n"
          ]
        }
      ],
      "source": [
        "# Self-check: monotonicity and report for phase metrics\n",
        "import json\n",
        "\n",
        "report = {\"checks\": []}\n",
        "\n",
        "# pass_rate_prob monotone non-increasing with extra for each (k,d)\n",
        "fail1 = []\n",
        "for (k_, d_), g in agg.groupby([\"k\",\"d\"]):\n",
        "    means = g.groupby(\"extra\")[\"pass_rate_prob\"].mean().to_dict()\n",
        "    ok = (means.get(1,0)>=means.get(2,0)>=means.get(4,0))\n",
        "    report[\"checks\"].append({\"type\": \"pass_rate_monotone_extra\", \"k\": int(k_), \"d\": int(d_), \"means\": means, \"ok\": bool(ok)})\n",
        "    if not ok:\n",
        "        fail1.append((k_, d_))\n",
        "\n",
        "# collision_mean monotone non-decreasing with extra for each (k,d)\n",
        "fail2 = []\n",
        "for (k_, d_), g in agg.groupby([\"k\",\"d\"]):\n",
        "    means = g.groupby(\"extra\")[\"collision_mean\"].mean().to_dict()\n",
        "    ok = (means.get(1,0)<=means.get(2,0)<=means.get(4,0))\n",
        "    report[\"checks\"].append({\"type\": \"collision_monotone_extra\", \"k\": int(k_), \"d\": int(d_), \"means\": means, \"ok\": bool(ok)})\n",
        "    if not ok:\n",
        "        fail2.append((k_, d_))\n",
        "\n",
        "# collision_mean decreases with d for each (k,extra)\n",
        "fail3 = []\n",
        "for (k_, extra_), g in agg.groupby([\"k\",\"extra\"]):\n",
        "    means = g.groupby(\"d\")[\"collision_mean\"].mean().to_dict()\n",
        "    ok = (means.get(1,0)>=means.get(2,0)>=means.get(3,0))\n",
        "    report[\"checks\"].append({\"type\": \"collision_monotone_d\", \"k\": int(k_), \"extra\": int(extra_), \"means\": means, \"ok\": bool(ok)})\n",
        "    if not ok:\n",
        "        fail3.append((k_, extra_))\n",
        "\n",
        "summary = {\n",
        "    \"pass_mono_fail\": len(fail1),\n",
        "    \"collision_extra_mono_fail\": len(fail2),\n",
        "    \"collision_d_mono_fail\": len(fail3),\n",
        "}\n",
        "report[\"summary\"] = summary\n",
        "\n",
        "report_json = RESULTS_DIR / \"phase_weird_report.json\"\n",
        "report_md = RESULTS_DIR / \"phase_weird_report.md\"\n",
        "report_json.write_text(json.dumps(report, ensure_ascii=False, indent=2), encoding=\"utf-8\")\n",
        "report_md.write_text(\"\\n\".join([\n",
        "    \"# Phase Weird Self-Check\",\n",
        "    f\"- pass monotonicity fails: {summary['pass_mono_fail']}\",\n",
        "    f\"- collision vs extra fails: {summary['collision_extra_mono_fail']}\",\n",
        "    f\"- collision vs d fails: {summary['collision_d_mono_fail']}\",\n",
        "]), encoding=\"utf-8\")\n",
        "print(f\"wrote {report_json}\")\n",
        "print(f\"wrote {report_md}\")\n",
        "\n"
      ]
    },
    {
      "cell_type": "code",
      "execution_count": 20,
      "metadata": {},
      "outputs": [
        {
          "name": "stdout",
          "output_type": "stream",
          "text": [
            "saved C:\\Users\\ASUS\\OneDrive\\Documents\\GitHub\\Psi-TM\\fig\\phase_weird_bar_d1.png\n"
          ]
        },
        {
          "name": "stderr",
          "output_type": "stream",
          "text": [
            "C:\\Users\\ASUS\\AppData\\Local\\Temp\\ipykernel_15456\\2639107414.py:16: FutureWarning: \n",
            "\n",
            "The `ci` parameter is deprecated. Use `errorbar=None` for the same effect.\n",
            "\n",
            "  ax = sns.barplot(data=bar, x=\"k\", y=\"mean_rate\", hue=\"extra\", ci=None)\n",
            "C:\\Users\\ASUS\\AppData\\Local\\Temp\\ipykernel_15456\\2639107414.py:16: FutureWarning: \n",
            "\n",
            "The `ci` parameter is deprecated. Use `errorbar=None` for the same effect.\n",
            "\n",
            "  ax = sns.barplot(data=bar, x=\"k\", y=\"mean_rate\", hue=\"extra\", ci=None)\n"
          ]
        },
        {
          "name": "stdout",
          "output_type": "stream",
          "text": [
            "saved C:\\Users\\ASUS\\OneDrive\\Documents\\GitHub\\Psi-TM\\fig\\phase_weird_bar_d2.png\n",
            "saved C:\\Users\\ASUS\\OneDrive\\Documents\\GitHub\\Psi-TM\\fig\\phase_weird_bar_d3.png\n",
            "saved C:\\Users\\ASUS\\OneDrive\\Documents\\GitHub\\Psi-TM\\fig\\phase_weird_collision_heatmap_k2_d1.png\n"
          ]
        },
        {
          "name": "stderr",
          "output_type": "stream",
          "text": [
            "C:\\Users\\ASUS\\AppData\\Local\\Temp\\ipykernel_15456\\2639107414.py:16: FutureWarning: \n",
            "\n",
            "The `ci` parameter is deprecated. Use `errorbar=None` for the same effect.\n",
            "\n",
            "  ax = sns.barplot(data=bar, x=\"k\", y=\"mean_rate\", hue=\"extra\", ci=None)\n"
          ]
        },
        {
          "name": "stdout",
          "output_type": "stream",
          "text": [
            "saved C:\\Users\\ASUS\\OneDrive\\Documents\\GitHub\\Psi-TM\\fig\\phase_weird_collision_heatmap_k2_d2.png\n",
            "saved C:\\Users\\ASUS\\OneDrive\\Documents\\GitHub\\Psi-TM\\fig\\phase_weird_collision_heatmap_k2_d3.png\n",
            "saved C:\\Users\\ASUS\\OneDrive\\Documents\\GitHub\\Psi-TM\\fig\\phase_weird_collision_heatmap_k3_d1.png\n",
            "saved C:\\Users\\ASUS\\OneDrive\\Documents\\GitHub\\Psi-TM\\fig\\phase_weird_collision_heatmap_k3_d2.png\n",
            "saved C:\\Users\\ASUS\\OneDrive\\Documents\\GitHub\\Psi-TM\\fig\\phase_weird_collision_heatmap_k3_d3.png\n",
            "saved C:\\Users\\ASUS\\OneDrive\\Documents\\GitHub\\Psi-TM\\fig\\phase_weird_collision_heatmap_k4_d1.png\n",
            "saved C:\\Users\\ASUS\\OneDrive\\Documents\\GitHub\\Psi-TM\\fig\\phase_weird_collision_heatmap_k4_d2.png\n",
            "saved C:\\Users\\ASUS\\OneDrive\\Documents\\GitHub\\Psi-TM\\fig\\phase_weird_collision_heatmap_k4_d3.png\n"
          ]
        }
      ],
      "source": [
        "# Visualization: bar with error bars and heatmap for phase metrics\n",
        "import seaborn as sns\n",
        "import matplotlib.pyplot as plt\n",
        "\n",
        "# Bar by k, hue=extra, faceted by d\n",
        "for d_ in GRID_D:\n",
        "    sub = agg[agg[\"d\"] == d_]\n",
        "    bar = sub.groupby([\"k\", \"extra\"], as_index=False).agg(\n",
        "        mean_rate=(\"pass_rate_prob\", \"mean\"),\n",
        "        ci_low=(\"ci_low_prob\", \"mean\"),\n",
        "        ci_high=(\"ci_high_prob\", \"mean\"),\n",
        "        coll_mean=(\"collision_mean\", \"mean\"),\n",
        "        N=(\"N\", \"sum\"),\n",
        "    )\n",
        "    plt.figure(figsize=(7,4))\n",
        "    ax = sns.barplot(data=bar, x=\"k\", y=\"mean_rate\", hue=\"extra\", ci=None)\n",
        "    for i, row in bar.iterrows():\n",
        "        ax.errorbar(\n",
        "            x=i % len(GRID_K),\n",
        "            y=row[\"mean_rate\"],\n",
        "            yerr=[[row[\"mean_rate\"] - row[\"ci_low\"]], [row[\"ci_high\"] - row[\"mean_rate\"]]],\n",
        "            fmt='none', c='black', capsize=3\n",
        "        )\n",
        "    ax.set_title(f\"Phase pass rate (prob., 95% CI), d={d_}, seed={SEED}\")\n",
        "    ax.set_ylabel(\"pass rate\")\n",
        "    plt.tight_layout()\n",
        "    out_path = FIG_DIR / f\"phase_weird_bar_d{d_}.png\"\n",
        "    plt.savefig(out_path, dpi=160)\n",
        "    print(f\"saved {out_path}\")\n",
        "    plt.close()\n",
        "\n",
        "# Heatmap of collision metric over n×extra for each (k,d)\n",
        "for k_ in GRID_K:\n",
        "    for d_ in GRID_D:\n",
        "        sub = agg[(agg[\"k\"] == k_) & (agg[\"d\"] == d_)]\n",
        "        piv = sub.pivot_table(values=\"collision_mean\", index=\"n\", columns=\"extra\", aggfunc=\"mean\")\n",
        "        plt.figure(figsize=(6,5))\n",
        "        sns.heatmap(piv, vmin=0.0, vmax=1.0, cmap=\"magma\", annot=False)\n",
        "        plt.title(f\"Collision (mean), k={k_}, d={d_}\")\n",
        "        plt.ylabel(\"n\")\n",
        "        plt.xlabel(\"extra\")\n",
        "        out_path = FIG_DIR / f\"phase_weird_collision_heatmap_k{k_}_d{d_}.png\"\n",
        "        plt.tight_layout()\n",
        "        plt.savefig(out_path, dpi=160)\n",
        "        print(f\"saved {out_path}\")\n",
        "        plt.close()\n",
        "\n"
      ]
    }
  ],
  "metadata": {
    "kernelspec": {
      "display_name": "Python 3",
      "language": "python",
      "name": "python3"
    },
    "language_info": {
      "codemirror_mode": {
        "name": "ipython",
        "version": 3
      },
      "file_extension": ".py",
      "mimetype": "text/x-python",
      "name": "python",
      "nbconvert_exporter": "python",
      "pygments_lexer": "ipython3",
      "version": "3.13.5"
    }
  },
  "nbformat": 4,
  "nbformat_minor": 2
}
