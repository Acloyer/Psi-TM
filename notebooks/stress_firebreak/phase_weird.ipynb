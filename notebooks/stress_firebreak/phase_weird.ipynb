{
  "cells": [
    {
      "cell_type": "raw",
      "metadata": {
        "vscode": {
          "languageId": "raw"
        }
      },
      "source": [
        "# Phase-Weird Stress (v0.8.7)\n",
        "\n",
        "Deterministic exploration of phase transcript collisions vs UB alt forms.\n",
        "Seed = 1337. Outputs figures under `fig/` and CSV under `results/<DATE>/stress_firebreak/`.\n",
        "\n"
      ]
    },
    {
      "cell_type": "code",
      "execution_count": null,
      "metadata": {},
      "outputs": [],
      "source": [
        "import random\n",
        "from pathlib import Path\n",
        "from datetime import date\n",
        "import pandas as pd\n",
        "import matplotlib.pyplot as plt\n",
        "\n",
        "SEED = 1337\n",
        "random.seed(SEED)\n",
        "\n",
        "ROOT = Path(__file__).resolve().parents[2]\n",
        "RESULTS_DIR = ROOT / \"results\" / date.today().isoformat() / \"stress_firebreak\"\n",
        "FIG_DIR = ROOT / \"fig\"\n",
        "RESULTS_DIR.mkdir(parents=True, exist_ok=True)\n",
        "FIG_DIR.mkdir(parents=True, exist_ok=True)\n",
        "\n",
        "def synth_phase_rows(num=64):\n",
        "    rows = []\n",
        "    for _ in range(num):\n",
        "        k = random.choice([2,3,4])\n",
        "        n = random.choice([2**p for p in range(6, 14)])\n",
        "        collision_prob = min(1.0, (k-1)/k * 0.25 + (1.0/(n**0.25)))\n",
        "        rows.append({\"k\": k, \"n\": n, \"collision_prob\": collision_prob})\n",
        "    return rows\n",
        "\n",
        "rows = synth_phase_rows()\n",
        "df = pd.DataFrame(rows)\n",
        "out_csv = RESULTS_DIR / \"phase_weird.csv\"\n",
        "df.to_csv(out_csv, index=False)\n",
        "print(f\"wrote {out_csv}\")\n",
        "\n",
        "ax = df.pivot_table(values=\"collision_prob\", index=\"k\", aggfunc=\"mean\").plot(kind=\"bar\", rot=0, title=\"Mean collision probability by k\")\n",
        "ax.set_ylabel(\"probability\")\n",
        "fig_path = FIG_DIR / \"phase_weird_bar.png\"\n",
        "plt.tight_layout()\n",
        "plt.savefig(fig_path, dpi=160)\n",
        "print(f\"saved {fig_path}\")\n",
        "\n"
      ]
    }
  ],
  "metadata": {
    "language_info": {
      "name": "python"
    }
  },
  "nbformat": 4,
  "nbformat_minor": 2
}
