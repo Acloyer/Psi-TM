{
  "cells": [
    {
      "cell_type": "raw",
      "metadata": {
        "vscode": {
          "languageId": "raw"
        }
      },
      "source": [
        "# Transcript Counts Sanity Checks (seed=1337)\n",
        "Exports CSVs with synthetic transcript counts to results/<DATE>/transcripts/.\n"
      ]
    },
    {
      "cell_type": "code",
      "execution_count": null,
      "metadata": {},
      "outputs": [],
      "source": [
        "import numpy as np\n",
        "import pandas as pd\n",
        "import os\n",
        "\n",
        "np.random.seed(1337)\n",
        "os.makedirs('results', exist_ok=True)\n",
        "DATE_SLUG = '2025-08-07'\n",
        "out_dir = os.path.join('results', DATE_SLUG, 'transcripts')\n",
        "os.makedirs(out_dir, exist_ok=True)\n",
        "\n",
        "# Synthetic transcript count model: counts ~ poly(n) bounded by budget\n",
        "n_vals = np.array([2**k for k in range(8, 18)])\n",
        "k_vals = [2,3,4]\n",
        "\n",
        "def B(c, d, n):\n",
        "    return c * d * np.log2(n)\n",
        "\n",
        "c = 1.0\n",
        "rows = []\n",
        "for k in k_vals:\n",
        "    for n in n_vals:\n",
        "        budget = B(c, k-1, n)\n",
        "        counts = np.minimum(budget**2, 1e6)  # proxy upper bound\n",
        "        rows.append({'k': k, 'n': int(n), 'budget': float(budget), 'max_transcripts': float(counts)})\n",
        "\n",
        "df = pd.DataFrame(rows)\n",
        "df.to_csv(os.path.join(out_dir, 'transcript_counts.csv'), index=False)\n",
        "print('Wrote', os.path.join(out_dir, 'transcript_counts.csv'))\n"
      ]
    }
  ],
  "metadata": {
    "language_info": {
      "name": "python"
    }
  },
  "nbformat": 4,
  "nbformat_minor": 2
}
